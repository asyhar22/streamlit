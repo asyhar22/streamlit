{
 "cells": [
  {
   "cell_type": "markdown",
   "metadata": {
    "colab_type": "text",
    "id": "view-in-github"
   },
   "source": [
    "<a href=\"https://colab.research.google.com/github/asyhar22/streamlit/blob/main/twitter_scrap%20v2.ipynb\" target=\"_parent\"><img src=\"https://colab.research.google.com/assets/colab-badge.svg\" alt=\"Open In Colab\"/></a>"
   ]
  },
  {
   "cell_type": "markdown",
   "metadata": {
    "id": "IymwcOqzsrtt"
   },
   "source": [
    "# Scrapping Data - Twitter API v2\n",
    "by Muhammad Asyhar"
   ]
  },
  {
   "cell_type": "markdown",
   "metadata": {
    "id": "VYsfFyWDs5pF"
   },
   "source": [
    "### Install & import library"
   ]
  },
  {
   "cell_type": "code",
   "execution_count": 1,
   "metadata": {
    "id": "KoTsttTF_Hn6"
   },
   "outputs": [],
   "source": [
    "import requests\n",
    "import pandas as pd\n",
    "import os"
   ]
  },
  {
   "cell_type": "markdown",
   "metadata": {
    "id": "hetzVMBJtmKe"
   },
   "source": [
    "### Scrapper Engine dan Parameter"
   ]
  },
  {
   "cell_type": "code",
   "execution_count": null,
   "metadata": {
    "id": "jof6K3Qk8pFq"
   },
   "outputs": [],
   "source": [
    "# Parameter\n",
    "keyword = 'Gempa'\n",
    "start_date = '2023-01-01'\n",
    "end_date = '2023-01-15'\n",
    "max_tweet = 10\n",
    "\n",
    "# Engine\n",
    "bearer_token = os.environ.get('BEARER_TOKEN')\n",
    "headers = {\"Authorization\": \"Bearer {}\".format(bearer_token)}"
   ]
  },
  {
   "cell_type": "markdown",
   "metadata": {
    "id": "vRKluFD9dLNI"
   },
   "source": [
    "### Response"
   ]
  },
  {
   "cell_type": "code",
   "execution_count": null,
   "metadata": {
    "id": "8GoRQqc3bxrX"
   },
   "outputs": [],
   "source": [
    "# Response\n",
    "url = \"https://api.twitter.com/2/tweets/search/recent?query=from:TwitterDev\"\n",
    "response = requests.request(\"GET\", url, headers=headers).json()"
   ]
  },
  {
   "cell_type": "markdown",
   "metadata": {
    "id": "p7Cd1INadUbN"
   },
   "source": [
    "### Data Frame"
   ]
  },
  {
   "cell_type": "code",
   "execution_count": null,
   "metadata": {
    "id": "a_EuViooc3fi"
   },
   "outputs": [],
   "source": [
    "# Data Frame\n",
    "df = pd.DataFrame(response['data'])\n",
    "df.to_csv('response_python.csv')"
   ]
  },
  {
   "cell_type": "markdown",
   "metadata": {
    "id": "CAfVb4_PuML7"
   },
   "source": [
    "## Terima kasih"
   ]
  }
 ],
 "metadata": {
  "colab": {
   "authorship_tag": "ABX9TyOLuGsxNgYZCfqOhmLQeWNQ",
   "include_colab_link": true,
   "provenance": []
  },
  "kernelspec": {
   "display_name": "Python 3 (ipykernel)",
   "language": "python",
   "name": "python3"
  },
  "language_info": {
   "codemirror_mode": {
    "name": "ipython",
    "version": 3
   },
   "file_extension": ".py",
   "mimetype": "text/x-python",
   "name": "python",
   "nbconvert_exporter": "python",
   "pygments_lexer": "ipython3",
   "version": "3.10.9"
  }
 },
 "nbformat": 4,
 "nbformat_minor": 1
}
